{
 "cells": [
  {
   "cell_type": "code",
   "execution_count": 2,
   "id": "698075d8",
   "metadata": {},
   "outputs": [
    {
     "name": "stdout",
     "output_type": "stream",
     "text": [
      "Enter a number: 5\n",
      "The numbered entered was 5\n",
      "That is an odd number\n"
     ]
    }
   ],
   "source": [
    "number = input(\"Enter a number: \")\n",
    "number = int(number)\n",
    "print(\"The numbered entered was\", number)\n",
    "if (number % 2) == 0:\n",
    "    print(\"That is an even number\")\n",
    "else:\n",
    "    print(\"That is an odd number\")"
   ]
  },
  {
   "cell_type": "code",
   "execution_count": 7,
   "id": "d7e7cfd1",
   "metadata": {},
   "outputs": [
    {
     "ename": "SyntaxError",
     "evalue": "invalid syntax (1941849336.py, line 2)",
     "output_type": "error",
     "traceback": [
      "\u001b[0;36m  File \u001b[0;32m\"/var/folders/zn/65qfh5yj2t97vv870kqlv_gm0000gn/T/ipykernel_6034/1941849336.py\"\u001b[0;36m, line \u001b[0;32m2\u001b[0m\n\u001b[0;31m    count = len(sys.argv) total = 0\u001b[0m\n\u001b[0m                          ^\u001b[0m\n\u001b[0;31mSyntaxError\u001b[0m\u001b[0;31m:\u001b[0m invalid syntax\n"
     ]
    }
   ],
   "source": [
    "import sys\n",
    "count = len(sys.argv) total = 0\n",
    "while count > 1:\n",
    "    count -= 1\n",
    "    total += float(sys.argv[count])\n",
    "print(\"Total is\", total)"
   ]
  },
  {
   "cell_type": "code",
   "execution_count": 9,
   "id": "19e5dc89",
   "metadata": {},
   "outputs": [
    {
     "name": "stdout",
     "output_type": "stream",
     "text": [
      "Welcome, utils module has been imported and initialised!\n"
     ]
    }
   ],
   "source": [
    "def average(values):\n",
    "    \"\"\" Calculates the average of the given list. \"\"\" \n",
    "    total = 0;\n",
    "    for n in values: # total the given values\n",
    "        total += float(n)\n",
    "    return total/len(values) # return calculated average\n",
    "# initialisation statement\n",
    "print(\"Welcome, utils module has been imported and initialised!\")"
   ]
  },
  {
   "cell_type": "code",
   "execution_count": null,
   "id": "47706fd8",
   "metadata": {},
   "outputs": [],
   "source": [
    "import math\n",
    "print(\"The square root of 20954 is\", math.sqrt(20954))"
   ]
  },
  {
   "cell_type": "code",
   "execution_count": 10,
   "id": "99547542",
   "metadata": {},
   "outputs": [
    {
     "ename": "SyntaxError",
     "evalue": "invalid syntax (2821165063.py, line 2)",
     "output_type": "error",
     "traceback": [
      "\u001b[0;36m  File \u001b[0;32m\"/var/folders/zn/65qfh5yj2t97vv870kqlv_gm0000gn/T/ipykernel_6034/2821165063.py\"\u001b[0;36m, line \u001b[0;32m2\u001b[0m\n\u001b[0;31m    print(\"The square root of 20954 is\", sqrt(20954)) print(\"The sine 0.653 is\", sin(0.653))\u001b[0m\n\u001b[0m                                                      ^\u001b[0m\n\u001b[0;31mSyntaxError\u001b[0m\u001b[0;31m:\u001b[0m invalid syntax\n"
     ]
    }
   ],
   "source": []
  },
  {
   "cell_type": "code",
   "execution_count": null,
   "id": "4b8de0e8",
   "metadata": {},
   "outputs": [],
   "source": [
    "def display_heading(text):\n",
    "    \"\"\" Prints a heading between two bars. \"\"\" \n",
    "    print(\"===================================\") \n",
    "    print(text) \n",
    "    print(\"===================================\")\n",
    "    \n",
    "    \n",
    "if __name__ == \"__main__\": \n",
    "    import sys\n",
    "    if len(sys.argv) > 1: \n",
    "        display_heading(sys.argv[1])"
   ]
  },
  {
   "cell_type": "code",
   "execution_count": 12,
   "id": "4a6f74ba",
   "metadata": {},
   "outputs": [
    {
     "name": "stdout",
     "output_type": "stream",
     "text": [
      "The square root of 20954 is 144.75496537252184\n",
      "The sine 0.653 is 0.607571930212528\n",
      "The cosine 0.623 is 0.812131691345271\n"
     ]
    }
   ],
   "source": [
    "import math as m\n",
    "print(\"The square root of 20954 is\", m.sqrt(20954)) \n",
    "print(\"The sine 0.653 is\", m.sin(0.653))\n",
    "print(\"The cosine 0.623 is\", m.cos(0.623))"
   ]
  },
  {
   "cell_type": "code",
   "execution_count": 13,
   "id": "dd4adb0c",
   "metadata": {},
   "outputs": [
    {
     "name": "stdout",
     "output_type": "stream",
     "text": [
      "The square root of 20954 is 144.75496537252184\n"
     ]
    }
   ],
   "source": [
    "from math import sqrt as root\n",
    "print(\"The square root of 20954 is\", root(20954))"
   ]
  },
  {
   "cell_type": "code",
   "execution_count": null,
   "id": "f6bcad83",
   "metadata": {},
   "outputs": [],
   "source": []
  },
  {
   "cell_type": "code",
   "execution_count": null,
   "id": "603eba0a",
   "metadata": {},
   "outputs": [],
   "source": []
  }
 ],
 "metadata": {
  "kernelspec": {
   "display_name": "Python 3 (ipykernel)",
   "language": "python",
   "name": "python3"
  },
  "language_info": {
   "codemirror_mode": {
    "name": "ipython",
    "version": 3
   },
   "file_extension": ".py",
   "mimetype": "text/x-python",
   "name": "python",
   "nbconvert_exporter": "python",
   "pygments_lexer": "ipython3",
   "version": "3.9.7"
  }
 },
 "nbformat": 4,
 "nbformat_minor": 5
}
