{
 "cells": [
  {
   "cell_type": "code",
   "execution_count": 5,
   "id": "7e01c5d0",
   "metadata": {},
   "outputs": [
    {
     "name": "stdout",
     "output_type": "stream",
     "text": [
      "the square root of 2401 is= 49.0\n"
     ]
    }
   ],
   "source": [
    "from math import sqrt\n",
    "print (\"the square root of 2401 is=\",sqrt(2401))"
   ]
  },
  {
   "cell_type": "code",
   "execution_count": 6,
   "id": "d38d95ca",
   "metadata": {},
   "outputs": [
    {
     "name": "stdout",
     "output_type": "stream",
     "text": [
      "10.0\n"
     ]
    }
   ],
   "source": [
    "from math import log2\n",
    "print(log2(1024))"
   ]
  },
  {
   "cell_type": "code",
   "execution_count": 8,
   "id": "d852d97b",
   "metadata": {},
   "outputs": [
    {
     "name": "stdout",
     "output_type": "stream",
     "text": [
      "12\n",
      "12\n",
      "programming is fun\n",
      "programming is fun\n"
     ]
    }
   ],
   "source": [
    "def displayTwice(msg):\n",
    "    print(msg)\n",
    "    print(msg) \n",
    "displayTwice(12)\n",
    "displayTwice(\"programming is fun\")"
   ]
  },
  {
   "cell_type": "code",
   "execution_count": 15,
   "id": "86f68fcb",
   "metadata": {},
   "outputs": [
    {
     "name": "stdout",
     "output_type": "stream",
     "text": [
      "Help on function displayTwice in module __main__:\n",
      "\n",
      "displayTwice(msg)\n",
      "    This function prints provided argument two times\n",
      "\n"
     ]
    }
   ],
   "source": [
    "def displayTwice(msg):\n",
    "    '''This function prints provided argument two times'''\n",
    "    print(msg)\n",
    "    print(msg)\n",
    "help(displayTwice)"
   ]
  },
  {
   "cell_type": "code",
   "execution_count": 12,
   "id": "891005c0",
   "metadata": {},
   "outputs": [
    {
     "ename": "SyntaxError",
     "evalue": "'return' outside function (133807289.py, line 7)",
     "output_type": "error",
     "traceback": [
      "\u001b[0;36m  File \u001b[0;32m\"/var/folders/zn/65qfh5yj2t97vv870kqlv_gm0000gn/T/ipykernel_4791/133807289.py\"\u001b[0;36m, line \u001b[0;32m7\u001b[0m\n\u001b[0;31m    return max\u001b[0m\n\u001b[0m    ^\u001b[0m\n\u001b[0;31mSyntaxError\u001b[0m\u001b[0;31m:\u001b[0m 'return' outside function\n"
     ]
    }
   ],
   "source": [
    "def findMax(a,b):\n",
    "    \"\"\"Finds the maximum of two values.\"\"\"\n",
    "    if ( a > b ):\n",
    "        max = a\n",
    "    else:\n",
    "        max = b\n",
    "return max\n"
   ]
  },
  {
   "cell_type": "code",
   "execution_count": 16,
   "id": "b18314d1",
   "metadata": {},
   "outputs": [
    {
     "name": "stdout",
     "output_type": "stream",
     "text": [
      "1\n",
      "work\n"
     ]
    }
   ],
   "source": [
    "def findMax(a,b):\n",
    "    \"\"\"Finds the maximum of two values.\"\"\"\n",
    "    if ( a > b ):\n",
    "        max = a\n",
    "    else:\n",
    "        max = b\n",
    "    return max\n",
    "print(findMax(1,0))\n",
    "print(findMax(\"work\",\"hello\"))"
   ]
  },
  {
   "cell_type": "code",
   "execution_count": 17,
   "id": "b82391e7",
   "metadata": {},
   "outputs": [
    {
     "name": "stdout",
     "output_type": "stream",
     "text": [
      "9\n",
      "25\n"
     ]
    }
   ],
   "source": [
    "def multiply(a,b=7):\n",
    "    if b==7:\n",
    "        return (a*a)\n",
    "    else:\n",
    "        return(a*b)\n",
    "print(multiply(9,1))\n",
    "print(multiply(5))"
   ]
  },
  {
   "cell_type": "code",
   "execution_count": 19,
   "id": "e1d881c0",
   "metadata": {},
   "outputs": [
    {
     "name": "stdout",
     "output_type": "stream",
     "text": [
      "x is 4 \n",
      "y is 5 \n",
      "z is 8\n",
      "x is 0 \n",
      "y is 8 \n",
      "z is 9\n"
     ]
    }
   ],
   "source": [
    "def someFunc(x, y, z):\n",
    "\tprint(\"x is\", x, \"\\ny is\", y, \"\\nz is\", z)\n",
    "someFunc(y=5, z=8, x=4)\n",
    "someFunc(z=9, x=0, y=8)"
   ]
  },
  {
   "cell_type": "code",
   "execution_count": 20,
   "id": "e7673973",
   "metadata": {},
   "outputs": [
    {
     "name": "stdout",
     "output_type": "stream",
     "text": [
      "4.6\n",
      "4.35\n"
     ]
    }
   ],
   "source": [
    "def calcAve(*numbers):\n",
    "    total = 0\n",
    "    for num in numbers:\n",
    "        total += num\n",
    "    return total/len(numbers)\n",
    "\n",
    "print(calcAve(3,8,6,5,1))\n",
    "print(calcAve(1.7,0.5,9.2,6.0))"
   ]
  },
  {
   "cell_type": "code",
   "execution_count": 23,
   "id": "a9df8431",
   "metadata": {},
   "outputs": [
    {
     "name": "stdout",
     "output_type": "stream",
     "text": [
      "8.06225774829855\n",
      "<class 'float'>\n"
     ]
    }
   ],
   "source": [
    "import math\n",
    "hypot = lambda a,b : math.sqrt(a * a + b * b)\n",
    "print(hypot(1,8))\n",
    "print(type(hypot(2,23)))"
   ]
  },
  {
   "cell_type": "code",
   "execution_count": 24,
   "id": "468f171f",
   "metadata": {},
   "outputs": [
    {
     "name": "stdout",
     "output_type": "stream",
     "text": [
      "122580\n",
      "36180\n",
      "8640\n"
     ]
    }
   ],
   "source": [
    "to_seconds = lambda a, b : a*60*60+b*60\n",
    "print(to_seconds(34,3))\n",
    "print(to_seconds(10,3))\n",
    "print(to_seconds(2,24))"
   ]
  },
  {
   "cell_type": "code",
   "execution_count": 26,
   "id": "57d7e348",
   "metadata": {},
   "outputs": [
    {
     "name": "stdout",
     "output_type": "stream",
     "text": [
      "352800\n",
      "43200\n"
     ]
    }
   ],
   "source": [
    "to_seconds = lambda a, b=0 : a*60*60+b*60\n",
    "print(to_seconds(98))\n",
    "print(to_seconds(12))"
   ]
  },
  {
   "cell_type": "code",
   "execution_count": null,
   "id": "f391ac69",
   "metadata": {},
   "outputs": [],
   "source": []
  }
 ],
 "metadata": {
  "kernelspec": {
   "display_name": "Python 3 (ipykernel)",
   "language": "python",
   "name": "python3"
  },
  "language_info": {
   "codemirror_mode": {
    "name": "ipython",
    "version": 3
   },
   "file_extension": ".py",
   "mimetype": "text/x-python",
   "name": "python",
   "nbconvert_exporter": "python",
   "pygments_lexer": "ipython3",
   "version": "3.9.7"
  }
 },
 "nbformat": 4,
 "nbformat_minor": 5
}
