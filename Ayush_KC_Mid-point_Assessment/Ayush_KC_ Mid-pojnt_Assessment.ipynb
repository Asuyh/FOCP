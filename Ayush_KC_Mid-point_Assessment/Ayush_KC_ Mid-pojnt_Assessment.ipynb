{
 "cells": [
  {
   "cell_type": "code",
   "execution_count": 22,
   "id": "962c36c5",
   "metadata": {},
   "outputs": [
    {
     "name": "stdout",
     "output_type": "stream",
     "text": [
      "Greetings! How shall we call you? Lord ayush\n",
      "It shall be so, Lord ayush\n"
     ]
    }
   ],
   "source": [
    "name = input(\"Greetings! How shall we call you? \")\n",
    "if (name.startswith(\"Lady \") or name.startswith(\"Lord \")):\n",
    "    print(\"It shall be so, \" +name)\n",
    "    \n",
    "else:\n",
    "    print(\"You may not be known by that name!\")"
   ]
  },
  {
   "cell_type": "code",
   "execution_count": 43,
   "id": "7b978df1",
   "metadata": {},
   "outputs": [
    {
     "name": "stdout",
     "output_type": "stream",
     "text": [
      "How many slices of spam? 1\n",
      "Egg with Spam coming up!\n"
     ]
    }
   ],
   "source": [
    "slices = int (input( \"How many slices of spam? \"))\n",
    "if slices == 1:\n",
    "    print (\"Egg with Spam coming up!\")\n",
    "elif slices >1:\n",
    "    print (f\"\"\"Egg with {\"Spam, \"*(slices-1)} and Spam coming up!\"\"\")"
   ]
  },
  {
   "cell_type": "code",
   "execution_count": 2,
   "id": "a607da24",
   "metadata": {},
   "outputs": [
    {
     "name": "stdout",
     "output_type": "stream",
     "text": [
      "Greetings! What is the password? hello'\n",
      "Incorrect! You may try again.\n",
      "Greetings! What is the password? parrot\n",
      "Correct! You may enter.\n"
     ]
    }
   ],
   "source": [
    "while True:\n",
    "    password = input(\"Greetings! What is the password? \")\n",
    "    if (password ==\"parrot\"):\n",
    "        print (\"Correct! You may enter.\")\n",
    "        break\n",
    "    else:\n",
    "        print(\"Incorrect! You may try again.\")"
   ]
  },
  {
   "cell_type": "code",
   "execution_count": 1,
   "id": "543c03eb",
   "metadata": {},
   "outputs": [
    {
     "name": "stdout",
     "output_type": "stream",
     "text": [
      "Enter a password:Helloworld123!@\n",
      "Password is acceptable\n"
     ]
    }
   ],
   "source": [
    "from string import ascii_letters as letters, digits, punctuation \n",
    "\n",
    "def password_checker(password):\n",
    "    has_letter = has_digit = has_punc = False\n",
    "    for character in password:\n",
    "        if character in letters:\n",
    "            has_letter = True\n",
    "        elif character in digits:\n",
    "            has_digit = True\n",
    "        elif character in punctuation:\n",
    "            has_punc = True\n",
    "    return has_letter and has_digit and has_punc\n",
    "\n",
    "psd = input(\"Enter a password:\")\n",
    "if password_checker(psd):\n",
    "    print(\"Password is acceptable\")\n",
    "else:\n",
    "    print(\"Password is unacceptable\")"
   ]
  },
  {
   "cell_type": "code",
   "execution_count": 10,
   "id": "955bce6d",
   "metadata": {},
   "outputs": [
    {
     "ename": "IndentationError",
     "evalue": "unindent does not match any outer indentation level (<tokenize>, line 16)",
     "output_type": "error",
     "traceback": [
      "\u001b[0;36m  File \u001b[0;32m\"<tokenize>\"\u001b[0;36m, line \u001b[0;32m16\u001b[0m\n\u001b[0;31m    minimum_index = rainfall.index(round(min(rainfall)),2)\u001b[0m\n\u001b[0m    ^\u001b[0m\n\u001b[0;31mIndentationError\u001b[0m\u001b[0;31m:\u001b[0m unindent does not match any outer indentation level\n"
     ]
    }
   ],
   "source": [
    "year = {}\n",
    "year [\"jan\"] = int(input(\"Enter rainfall for January:\"))\n",
    "year [\"feb\"] = int(input(\"Enter rainfall for February:\"))\n",
    "year [\"mar\"] = int(input(\"Enter rainfall for March:\"))\n",
    "year [\"apr\"] = int(input(\"Enter rainfall for April:\"))\n",
    "year [\"may\"] = int(input(\"Enter rainfall for May:\"))\n",
    "year [\"jun\"] = int(input(\"Enter rainfall for June:\"))\n",
    "year [\"jul\"] = int(input(\"Enter rainfall for July:\"))\n",
    "year [\"aug\"] = int(input(\"Enter rainfall for August\"))\n",
    "year [\"sep\"] = int(input(\"Enter rainfall for September\"))\n",
    "year [\"oct\"] = int(input(\"Enter rainfall for October\"))\n",
    "year [\"nov\"] = int(input(\"Enter rainfall for November:\"))\n",
    "year [\"dec\"] = int(input(\"Enter rainfall for December\"))\n",
    "def highest():\n",
    "    print (\"Max Rainfall:\", max(year))\n",
    "highest()\n",
    "def lowest():\n",
    "    print(\"Min Rainfall:\", min(year))\n",
    "lowest()\n",
    "def average():\n",
    "    print(\"Average:\\t\", avr(year))\n",
    "average()\n",
    "def stdev():\n",
    "    print(\"Standard Deviation:\", stdev(year))\n",
    "stdev()"
   ]
  },
  {
   "cell_type": "code",
   "execution_count": 14,
   "id": "3efbab05",
   "metadata": {},
   "outputs": [
    {
     "name": "stdout",
     "output_type": "stream",
     "text": [
      "Welcome to the Shop!\n",
      "\n",
      "\n",
      "Currently in stock: apple (35p) - banana (18p) - orange (26p)\n",
      "Pick an Item, or Enter to Checkout.\n",
      "Choice --> apple\n"
     ]
    },
    {
     "ename": "NameError",
     "evalue": "name 'stock' is not defined",
     "output_type": "error",
     "traceback": [
      "\u001b[0;31m---------------------------------------------------------------------------\u001b[0m",
      "\u001b[0;31mNameError\u001b[0m                                 Traceback (most recent call last)",
      "\u001b[0;32m/var/folders/zn/65qfh5yj2t97vv870kqlv_gm0000gn/T/ipykernel_4551/207568778.py\u001b[0m in \u001b[0;36m<module>\u001b[0;34m\u001b[0m\n\u001b[1;32m      7\u001b[0m     \u001b[0mchoice\u001b[0m \u001b[0;34m=\u001b[0m \u001b[0minput\u001b[0m\u001b[0;34m(\u001b[0m\u001b[0;34m\"Choice --> \"\u001b[0m\u001b[0;34m)\u001b[0m\u001b[0;34m\u001b[0m\u001b[0;34m\u001b[0m\u001b[0m\n\u001b[1;32m      8\u001b[0m     \u001b[0mchoice\u001b[0m \u001b[0;34m=\u001b[0m \u001b[0mchoice\u001b[0m\u001b[0;34m.\u001b[0m\u001b[0mlower\u001b[0m\u001b[0;34m(\u001b[0m\u001b[0;34m)\u001b[0m\u001b[0;34m\u001b[0m\u001b[0;34m\u001b[0m\u001b[0m\n\u001b[0;32m----> 9\u001b[0;31m     \u001b[0;32mif\u001b[0m \u001b[0mchoice\u001b[0m \u001b[0;32min\u001b[0m \u001b[0mlist\u001b[0m\u001b[0;34m(\u001b[0m\u001b[0mstock\u001b[0m\u001b[0;34m.\u001b[0m\u001b[0mkeys\u001b[0m\u001b[0;34m(\u001b[0m\u001b[0;34m)\u001b[0m\u001b[0;34m)\u001b[0m\u001b[0;34m:\u001b[0m\u001b[0;34m\u001b[0m\u001b[0;34m\u001b[0m\u001b[0m\n\u001b[0m\u001b[1;32m     10\u001b[0m         \u001b[0mprint\u001b[0m\u001b[0;34m(\u001b[0m\u001b[0;34m\"Item added.\"\u001b[0m\u001b[0;34m)\u001b[0m\u001b[0;34m\u001b[0m\u001b[0;34m\u001b[0m\u001b[0m\n\u001b[1;32m     11\u001b[0m     \u001b[0;32mif\u001b[0m \u001b[0mamt\u001b[0m \u001b[0;34m==\u001b[0m \u001b[0;36m0\u001b[0m\u001b[0;34m:\u001b[0m\u001b[0;34m\u001b[0m\u001b[0;34m\u001b[0m\u001b[0m\n",
      "\u001b[0;31mNameError\u001b[0m: name 'stock' is not defined"
     ]
    }
   ],
   "source": [
    "print (\"Welcome to the Shop!\\n\\n\")\n",
    "print (\"Currently in stock: apple (35p) - banana (18p) - orange (26p)\")\n",
    "print (\"Pick an Item, or Enter to Checkout.\")\n",
    "amt = 0\n",
    "items = \"\"\n",
    "while True:\n",
    "    ch = input(\"Choice ----> \")\n",
    "    ch = ch.__str__\n",
    "    if ch in list(stock.keys()):\n",
    "        print(\"Items added.\")\n",
    "    if amt == 0:\n",
    "        items += ch\n",
    "    elif amt < 0:\n",
    "        items += \" --- \"+ch\n",
    "        amt += stock[ch]\n",
    "            \n",
    "    elif not ch: \n",
    "        break\n",
    "    else:\n",
    "        print(\"No such item. Try again\")\n",
    "print(f\"Thank you. You have purchased {items} at a cost of {amt} p.\")"
   ]
  }
 ],
 "metadata": {
  "kernelspec": {
   "display_name": "Python 3 (ipykernel)",
   "language": "python",
   "name": "python3"
  },
  "language_info": {
   "codemirror_mode": {
    "name": "ipython",
    "version": 3
   },
   "file_extension": ".py",
   "mimetype": "text/x-python",
   "name": "python",
   "nbconvert_exporter": "python",
   "pygments_lexer": "ipython3",
   "version": "3.9.7"
  }
 },
 "nbformat": 4,
 "nbformat_minor": 5
}
